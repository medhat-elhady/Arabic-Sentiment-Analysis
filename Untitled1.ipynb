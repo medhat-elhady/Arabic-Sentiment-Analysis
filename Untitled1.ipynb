{
 "cells": [
  {
   "cell_type": "code",
   "execution_count": null,
   "id": "82427cc7-975f-4c60-a49d-29aa20f0d711",
   "metadata": {},
   "outputs": [],
   "source": []
  },
  {
   "cell_type": "code",
   "execution_count": null,
   "id": "2e738ee5-f781-41ea-b11d-a30d6b8623bd",
   "metadata": {},
   "outputs": [],
   "source": []
  },
  {
   "cell_type": "code",
   "execution_count": null,
   "id": "0e58290f-9f18-4563-9cb7-decfd4c7efae",
   "metadata": {},
   "outputs": [],
   "source": []
  },
  {
   "cell_type": "code",
   "execution_count": null,
   "id": "0b0215b4-80ef-4603-9268-aca0fd6ff494",
   "metadata": {},
   "outputs": [],
   "source": []
  },
  {
   "cell_type": "code",
   "execution_count": null,
   "id": "d6a03295-2a25-4eba-a15c-4735b2684240",
   "metadata": {},
   "outputs": [],
   "source": []
  },
  {
   "cell_type": "code",
   "execution_count": null,
   "id": "5d06fbb9-cfa7-4f2f-b8a7-2246097a3d72",
   "metadata": {},
   "outputs": [],
   "source": []
  },
  {
   "cell_type": "code",
   "execution_count": null,
   "id": "77bd6575-3968-4a5b-92fd-709f880943a3",
   "metadata": {},
   "outputs": [],
   "source": []
  },
  {
   "cell_type": "code",
   "execution_count": null,
   "id": "b8b698c4-becb-4655-8c62-6c33f3036e01",
   "metadata": {},
   "outputs": [],
   "source": []
  },
  {
   "cell_type": "code",
   "execution_count": null,
   "id": "b65e34db-75ff-403b-b59a-a663f0b58299",
   "metadata": {},
   "outputs": [],
   "source": []
  },
  {
   "cell_type": "code",
   "execution_count": null,
   "id": "bc0e46dc-6917-4ad2-8f27-626868226cc2",
   "metadata": {},
   "outputs": [],
   "source": []
  },
  {
   "cell_type": "code",
   "execution_count": null,
   "id": "de1e36e5-e9cf-4af8-97f8-ef01db765efb",
   "metadata": {},
   "outputs": [],
   "source": []
  },
  {
   "cell_type": "code",
   "execution_count": 83,
   "id": "c256ec2a-edfa-4041-967c-6f0458dca251",
   "metadata": {
    "tags": []
   },
   "outputs": [
    {
     "name": "stdout",
     "output_type": "stream",
     "text": [
      "env: PROJECT=qwiklabs-asl-00-05fccb34ed23\n",
      "env: BUCKET=qwiklabs-asl-00-05fccb34ed23\n",
      "env: REGION=us-central1\n",
      "env: OUTDIR=gs://qwiklabs-asl-00-05fccb34ed23/classifier/data\n",
      "env: TFVERSION=2.8\n"
     ]
    }
   ],
   "source": [
    "# Change below if necessary\n",
    "PROJECT = !gcloud config get-value project  # noqa: E999\n",
    "PROJECT = PROJECT[0]\n",
    "BUCKET = PROJECT\n",
    "REGION = \"us-central1\"\n",
    "\n",
    "OUTDIR = f\"gs://{BUCKET}/classifier/data\"\n",
    "\n",
    "%env PROJECT=$PROJECT\n",
    "%env BUCKET=$BUCKET\n",
    "%env REGION=$REGION\n",
    "%env OUTDIR=$OUTDIR\n",
    "%env TFVERSION=2.8"
   ]
  },
  {
   "cell_type": "code",
   "execution_count": 84,
   "id": "9a827682-9c76-4141-8008-efe53f009daa",
   "metadata": {
    "tags": []
   },
   "outputs": [
    {
     "name": "stdout",
     "output_type": "stream",
     "text": [
      "Overwriting ./classifier/Dockerfile\n"
     ]
    }
   ],
   "source": [
    "%%writefile ./classifier/Dockerfile\n",
    "FROM us-docker.pkg.dev/vertex-ai/training/tf-gpu.2-12.py310\n",
    "# TODO 3\n",
    "RUN pip install tensorflow-hub\n",
    "RUN pip install tf-models-official==2.13.2\n",
    "\n",
    "COPY . /code\n",
    "\n",
    "WORKDIR /code\n",
    "\n",
    "ENTRYPOINT [\"python3\", \"-m\", \"trainer.task\"]"
   ]
  },
  {
   "cell_type": "code",
   "execution_count": 87,
   "id": "20413147-d49f-4637-aa5c-0e8efbccfe3a",
   "metadata": {
    "collapsed": true,
    "jupyter": {
     "outputs_hidden": true
    },
    "tags": []
   },
   "outputs": [
    {
     "name": "stdout",
     "output_type": "stream",
     "text": [
      "Sending build context to Docker daemon  86.71MB\n",
      "Step 1/6 : FROM us-docker.pkg.dev/vertex-ai/training/tf-gpu.2-12.py310\n",
      " ---> bd2bbbab7d71\n",
      "Step 2/6 : RUN pip install tensorflow-hub\n",
      " ---> Using cache\n",
      " ---> 517584367e50\n",
      "Step 3/6 : RUN pip install tf-models-official==2.13.2\n",
      " ---> Using cache\n",
      " ---> 5d151aace5a5\n",
      "Step 4/6 : COPY . /code\n",
      " ---> 6a6f74fb84ef\n",
      "Step 5/6 : WORKDIR /code\n",
      " ---> Running in 3db1d867410b\n",
      "Removing intermediate container 3db1d867410b\n",
      " ---> 2abb1ac62944\n",
      "Step 6/6 : ENTRYPOINT [\"python3\", \"-m\", \"trainer.task\"]\n",
      " ---> Running in c5590b76d9b5\n",
      "Removing intermediate container c5590b76d9b5\n",
      " ---> fddb2f07542b\n",
      "Successfully built fddb2f07542b\n",
      "Successfully tagged gcr.io/qwiklabs-asl-00-05fccb34ed23/classifier_training_container_with_gpu6:latest\n",
      "Using default tag: latest\n",
      "The push refers to repository [gcr.io/qwiklabs-asl-00-05fccb34ed23/classifier_training_container_with_gpu6]\n",
      "279e348e269f: Preparing\n",
      "1fb6ba705304: Preparing\n",
      "67a672eb4eab: Preparing\n",
      "e42695c7b436: Preparing\n",
      "e42695c7b436: Preparing\n",
      "7e34967c8575: Preparing\n",
      "19c1ff49a1a3: Preparing\n",
      "724eb7d1e386: Preparing\n",
      "e7df186da59e: Preparing\n",
      "e7df186da59e: Preparing\n",
      "d9e5455afa58: Preparing\n",
      "a4f1c7b5b5c5: Preparing\n",
      "1eeca563762d: Preparing\n",
      "b3f8d9df367e: Preparing\n",
      "29e2658ae6ea: Preparing\n",
      "228616cf4f10: Preparing\n",
      "ae32b7336b96: Preparing\n",
      "ae32b7336b96: Preparing\n",
      "ea7b0ccc272e: Preparing\n",
      "01d4173a3960: Preparing\n",
      "c235d251a607: Preparing\n",
      "f2833e4d69b4: Preparing\n",
      "49fc5a524f1f: Preparing\n",
      "e175e85d3600: Preparing\n",
      "55bfb3527de7: Preparing\n",
      "ee67859f37c6: Preparing\n",
      "ed7e041f0699: Preparing\n",
      "0235cf47cbae: Preparing\n",
      "2971cdbb4b45: Preparing\n",
      "8374b2bc65e7: Preparing\n",
      "3b93a6feba89: Preparing\n",
      "b15400eb0fa7: Preparing\n",
      "29ecaf0c2ae0: Preparing\n",
      "41e673079fce: Preparing\n",
      "cda9215846ee: Preparing\n",
      "c5eafb4bee8f: Preparing\n",
      "81182eb0608d: Preparing\n",
      "f2baf76d88ee: Preparing\n",
      "cdd7c7392317: Preparing\n",
      "e175e85d3600: Waiting\n",
      "0235cf47cbae: Waiting\n",
      "55bfb3527de7: Waiting\n",
      "2971cdbb4b45: Waiting\n",
      "ee67859f37c6: Waiting\n",
      "8374b2bc65e7: Waiting\n",
      "ed7e041f0699: Waiting\n",
      "3b93a6feba89: Waiting\n",
      "19c1ff49a1a3: Waiting\n",
      "724eb7d1e386: Waiting\n",
      "d9e5455afa58: Waiting\n",
      "e7df186da59e: Waiting\n",
      "1eeca563762d: Waiting\n",
      "b3f8d9df367e: Waiting\n",
      "29ecaf0c2ae0: Waiting\n",
      "41e673079fce: Waiting\n",
      "29e2658ae6ea: Waiting\n",
      "228616cf4f10: Waiting\n",
      "cda9215846ee: Waiting\n",
      "ae32b7336b96: Waiting\n",
      "ea7b0ccc272e: Waiting\n",
      "c235d251a607: Waiting\n",
      "c5eafb4bee8f: Waiting\n",
      "01d4173a3960: Waiting\n",
      "f2833e4d69b4: Waiting\n",
      "81182eb0608d: Waiting\n",
      "cdd7c7392317: Waiting\n",
      "f2baf76d88ee: Waiting\n",
      "49fc5a524f1f: Waiting\n",
      "1fb6ba705304: Layer already exists\n",
      "e42695c7b436: Layer already exists\n",
      "7e34967c8575: Layer already exists\n",
      "67a672eb4eab: Layer already exists\n",
      "19c1ff49a1a3: Layer already exists\n",
      "e7df186da59e: Layer already exists\n",
      "724eb7d1e386: Layer already exists\n",
      "d9e5455afa58: Layer already exists\n",
      "1eeca563762d: Layer already exists\n",
      "a4f1c7b5b5c5: Layer already exists\n",
      "b3f8d9df367e: Layer already exists\n",
      "29e2658ae6ea: Layer already exists\n",
      "228616cf4f10: Layer already exists\n",
      "ae32b7336b96: Layer already exists\n",
      "01d4173a3960: Layer already exists\n",
      "ea7b0ccc272e: Layer already exists\n",
      "c235d251a607: Layer already exists\n",
      "49fc5a524f1f: Layer already exists\n",
      "f2833e4d69b4: Layer already exists\n",
      "55bfb3527de7: Layer already exists\n",
      "e175e85d3600: Layer already exists\n",
      "ed7e041f0699: Layer already exists\n",
      "ee67859f37c6: Layer already exists\n",
      "2971cdbb4b45: Layer already exists\n",
      "0235cf47cbae: Layer already exists\n",
      "8374b2bc65e7: Layer already exists\n",
      "3b93a6feba89: Layer already exists\n",
      "b15400eb0fa7: Layer already exists\n",
      "29ecaf0c2ae0: Layer already exists\n",
      "41e673079fce: Layer already exists\n",
      "c5eafb4bee8f: Layer already exists\n",
      "cda9215846ee: Layer already exists\n",
      "81182eb0608d: Layer already exists\n",
      "f2baf76d88ee: Layer already exists\n",
      "cdd7c7392317: Layer already exists\n",
      "279e348e269f: Pushed\n",
      "latest: digest: sha256:47803fae7cc3c9a2e83097b78251fca341185a7bbe6465bad339f4df42eddcc8 size: 8495\n"
     ]
    }
   ],
   "source": [
    "%%bash\n",
    "\n",
    "PROJECT_DIR=$(cd ./classifier && pwd)\n",
    "IMAGE_NAME=classifier_training_container_with_gpu6\n",
    "DOCKERFILE=$PROJECT_DIR/Dockerfile\n",
    "IMAGE_URI=gcr.io/$PROJECT/$IMAGE_NAME\n",
    "\n",
    "docker build $PROJECT_DIR -f $DOCKERFILE -t $IMAGE_URI\n",
    "\n",
    "docker push $IMAGE_URI"
   ]
  },
  {
   "cell_type": "code",
   "execution_count": null,
   "id": "14de4ea7-bc3a-4094-b16e-23fb73bd7881",
   "metadata": {
    "tags": []
   },
   "outputs": [],
   "source": [
    "%%bash\n",
    "\n",
    "# Output directory and jobID\n",
    "TIMESTAMP=$(date -u +%Y%m%d_%H%M%S)\n",
    "OUTDIR=gs://${BUCKET}/classifier_$TIMESTAMP/SavedModel\n",
    "JOB_NAME=classifier_$TIMESTAMP\n",
    "echo ${OUTDIR} ${REGION} ${JOB_NAME}\n",
    "\n",
    "\n",
    "# Vertex AI machines to use for training\n",
    "MACHINE_TYPE=n1-standard-4\n",
    "ACCELERATOR_TYPE=NVIDIA_TESLA_T4\n",
    "REPLICA_COUNT=1\n",
    "\n",
    "# GCS paths\n",
    "GCS_PROJECT_PATH=gs://$BUCKET/classifier\n",
    "DATA_PATH=$GCS_PROJECT_PATH/data\n",
    "TRAIN_DATA_PATH=$DATA_PATH/ar_reviews_100k.tsv \n",
    "BATCH_SIZE=32\n",
    "VALIDATION_SPLIT=0.2\n",
    "DROPOUT=0.1\n",
    "EPOCHS=20\n",
    "LR=0.0001\n",
    "\n",
    "IMAGE_NAME=classifier_training_container_with_gpu6\n",
    "IMAGE_URI=gcr.io/$PROJECT/$IMAGE_NAME\n",
    "\n",
    "WORKER_POOL_SPEC=\"machine-type=$MACHINE_TYPE,\\\n",
    "accelerator-type=$ACCELERATOR_TYPE,\\\n",
    "replica-count=$REPLICA_COUNT,\\\n",
    "container-image-uri=$IMAGE_URI\"\n",
    "\n",
    "OUTPUT_DIR=$OUTDIR\n",
    "ARGS=\"--batch_size=$BATCH_SIZE,\\\n",
    "--validation_split=$VALIDATION_SPLIT,\\\n",
    "--lr=$LR,\\\n",
    "--output_dir=$OUTPUT_DIR,\\\n",
    "--train_data_path=$TRAIN_DATA_PATH,\\\n",
    "--dropout_rate=$DROPOUT,\\\n",
    "--epochs=$EPOCHS\"\n",
    "\n",
    "gcloud ai custom-jobs create \\\n",
    "  --region=$REGION \\\n",
    "  --display-name=$JOB_NAME \\\n",
    "  --worker-pool-spec=$WORKER_POOL_SPEC \\\n",
    "  --args=\"$ARGS\""
   ]
  },
  {
   "cell_type": "code",
   "execution_count": 81,
   "id": "f55faeb5-9e80-4541-83c2-98242b5c53c2",
   "metadata": {
    "tags": []
   },
   "outputs": [
    {
     "name": "stdout",
     "output_type": "stream",
     "text": [
      "gs://qwiklabs-asl-00-05fccb34ed23/classifier_20231213_201507/SavedModel us-central1 classifier_20231213_201507\n"
     ]
    },
    {
     "name": "stderr",
     "output_type": "stream",
     "text": [
      "Using endpoint [https://us-central1-aiplatform.googleapis.com/]\n",
      "CustomJob [projects/1033908600341/locations/us-central1/customJobs/1059785379311255552] is submitted successfully.\n",
      "\n",
      "Your job is still active. You may view the status of your job with the command\n",
      "\n",
      "  $ gcloud ai custom-jobs describe projects/1033908600341/locations/us-central1/customJobs/1059785379311255552\n",
      "\n",
      "or continue streaming the logs with the command\n",
      "\n",
      "  $ gcloud ai custom-jobs stream-logs projects/1033908600341/locations/us-central1/customJobs/1059785379311255552\n"
     ]
    }
   ],
   "source": [
    "%%bash\n",
    "\n",
    "# Output directory and jobID\n",
    "TIMESTAMP=$(date -u +%Y%m%d_%H%M%S)\n",
    "OUTDIR=gs://${BUCKET}/classifier_$TIMESTAMP/SavedModel\n",
    "JOB_NAME=classifier_$TIMESTAMP\n",
    "echo ${OUTDIR} ${REGION} ${JOB_NAME}\n",
    "\n",
    "\n",
    "# Vertex AI machines to use for training\n",
    "MACHINE_TYPE=n1-standard-4\n",
    "ACCELERATOR_TYPE=NVIDIA_TESLA_T4\n",
    "REPLICA_COUNT=1\n",
    "\n",
    "# GCS paths\n",
    "GCS_PROJECT_PATH=gs://$BUCKET/classifier\n",
    "DATA_PATH=$GCS_PROJECT_PATH/data\n",
    "TRAIN_DATA_PATH=$DATA_PATH/ar_reviews_100k.tsv \n",
    "BATCH_SIZE=32\n",
    "VALIDATION_SPLIT=0.2\n",
    "DROPOUT=0.1\n",
    "EPOCHS=10\n",
    "LR=0.001\n",
    "\n",
    "IMAGE_NAME=classifier_training_container_with_gpu4\n",
    "IMAGE_URI=gcr.io/$PROJECT/$IMAGE_NAME\n",
    "\n",
    "WORKER_POOL_SPEC=\"machine-type=$MACHINE_TYPE,\\\n",
    "accelerator-type=$ACCELERATOR_TYPE,\\\n",
    "replica-count=$REPLICA_COUNT,\\\n",
    "container-image-uri=$IMAGE_URI\"\n",
    "\n",
    "OUTPUT_DIR=$OUTDIR\n",
    "ARGS=\"--batch_size=$BATCH_SIZE,\\\n",
    "--validation_split=$VALIDATION_SPLIT,\\\n",
    "--lr=$LR,\\\n",
    "--output_dir=$OUTPUT_DIR,\\\n",
    "--train_data_path=$TRAIN_DATA_PATH,\\\n",
    "--dropout_rate=$DROPOUT,\\\n",
    "--epochs=$EPOCHS\"\n",
    "\n",
    "gcloud ai custom-jobs create \\\n",
    "  --region=$REGION \\\n",
    "  --display-name=$JOB_NAME \\\n",
    "  --worker-pool-spec=$WORKER_POOL_SPEC \\\n",
    "  --args=\"$ARGS\""
   ]
  },
  {
   "cell_type": "code",
   "execution_count": 82,
   "id": "31e3cc67-eb74-46f6-a04e-e457e381350f",
   "metadata": {
    "tags": []
   },
   "outputs": [
    {
     "name": "stdout",
     "output_type": "stream",
     "text": [
      "gs://qwiklabs-asl-00-05fccb34ed23/classifier_20231213_202210/SavedModel us-central1 classifier_20231213_202210\n"
     ]
    },
    {
     "name": "stderr",
     "output_type": "stream",
     "text": [
      "Using endpoint [https://us-central1-aiplatform.googleapis.com/]\n",
      "CustomJob [projects/1033908600341/locations/us-central1/customJobs/5394500020655357952] is submitted successfully.\n",
      "\n",
      "Your job is still active. You may view the status of your job with the command\n",
      "\n",
      "  $ gcloud ai custom-jobs describe projects/1033908600341/locations/us-central1/customJobs/5394500020655357952\n",
      "\n",
      "or continue streaming the logs with the command\n",
      "\n",
      "  $ gcloud ai custom-jobs stream-logs projects/1033908600341/locations/us-central1/customJobs/5394500020655357952\n"
     ]
    }
   ],
   "source": [
    "%%bash\n",
    "\n",
    "# Output directory and jobID\n",
    "TIMESTAMP=$(date -u +%Y%m%d_%H%M%S)\n",
    "OUTDIR=gs://${BUCKET}/classifier_$TIMESTAMP/SavedModel\n",
    "JOB_NAME=classifier_$TIMESTAMP\n",
    "echo ${OUTDIR} ${REGION} ${JOB_NAME}\n",
    "\n",
    "\n",
    "# Vertex AI machines to use for training\n",
    "MACHINE_TYPE=n1-standard-4\n",
    "ACCELERATOR_TYPE=NVIDIA_TESLA_T4\n",
    "REPLICA_COUNT=1\n",
    "\n",
    "# GCS paths\n",
    "GCS_PROJECT_PATH=gs://$BUCKET/classifier\n",
    "DATA_PATH=$GCS_PROJECT_PATH/data\n",
    "TRAIN_DATA_PATH=$DATA_PATH/ar_reviews_100k.tsv \n",
    "BATCH_SIZE=32\n",
    "VALIDATION_SPLIT=0.2\n",
    "DROPOUT=0.1\n",
    "EPOCHS=20\n",
    "LR=0.001\n",
    "\n",
    "IMAGE_NAME=classifier_training_container_with_gpu4\n",
    "IMAGE_URI=gcr.io/$PROJECT/$IMAGE_NAME\n",
    "\n",
    "WORKER_POOL_SPEC=\"machine-type=$MACHINE_TYPE,\\\n",
    "accelerator-type=$ACCELERATOR_TYPE,\\\n",
    "replica-count=$REPLICA_COUNT,\\\n",
    "container-image-uri=$IMAGE_URI\"\n",
    "\n",
    "OUTPUT_DIR=$OUTDIR\n",
    "ARGS=\"--batch_size=$BATCH_SIZE,\\\n",
    "--validation_split=$VALIDATION_SPLIT,\\\n",
    "--lr=$LR,\\\n",
    "--output_dir=$OUTPUT_DIR,\\\n",
    "--train_data_path=$TRAIN_DATA_PATH,\\\n",
    "--dropout_rate=$DROPOUT,\\\n",
    "--epochs=$EPOCHS\"\n",
    "\n",
    "gcloud ai custom-jobs create \\\n",
    "  --region=$REGION \\\n",
    "  --display-name=$JOB_NAME \\\n",
    "  --worker-pool-spec=$WORKER_POOL_SPEC \\\n",
    "  --args=\"$ARGS\""
   ]
  },
  {
   "cell_type": "code",
   "execution_count": null,
   "id": "09fc542f-74bd-475b-8ce5-a48ffb1bd600",
   "metadata": {},
   "outputs": [],
   "source": []
  },
  {
   "cell_type": "code",
   "execution_count": 90,
   "id": "0b8d7d92-14a2-42c0-85d3-60d4c6666986",
   "metadata": {
    "tags": []
   },
   "outputs": [
    {
     "name": "stderr",
     "output_type": "stream",
     "text": [
      "2023-12-14 12:12:17.281303: I tensorflow/core/platform/cpu_feature_guard.cc:182] This TensorFlow binary is optimized to use available CPU instructions in performance-critical operations.\n",
      "To enable the following instructions: AVX2 FMA, in other operations, rebuild TensorFlow with the appropriate compiler flags.\n",
      "/opt/conda/lib/python3.10/site-packages/tensorflow_io/python/ops/__init__.py:98: UserWarning: unable to load libtensorflow_io_plugins.so: unable to open file: libtensorflow_io_plugins.so, from paths: ['/opt/conda/lib/python3.10/site-packages/tensorflow_io/python/ops/libtensorflow_io_plugins.so']\n",
      "caused by: ['/opt/conda/lib/python3.10/site-packages/tensorflow_io/python/ops/libtensorflow_io_plugins.so: undefined symbol: _ZN3tsl6StatusC1EN10tensorflow5error4CodeESt17basic_string_viewIcSt11char_traitsIcEENS_14SourceLocationE']\n",
      "  warnings.warn(f\"unable to load libtensorflow_io_plugins.so: {e}\")\n",
      "/opt/conda/lib/python3.10/site-packages/tensorflow_io/python/ops/__init__.py:104: UserWarning: file system plugins are not loaded: unable to open file: libtensorflow_io.so, from paths: ['/opt/conda/lib/python3.10/site-packages/tensorflow_io/python/ops/libtensorflow_io.so']\n",
      "caused by: ['/opt/conda/lib/python3.10/site-packages/tensorflow_io/python/ops/libtensorflow_io.so: undefined symbol: _ZTVN10tensorflow13GcsFileSystemE']\n",
      "  warnings.warn(f\"file system plugins are not loaded: {e}\")\n"
     ]
    }
   ],
   "source": [
    "import tensorflow as tf"
   ]
  },
  {
   "cell_type": "code",
   "execution_count": null,
   "id": "00bea51e-24e6-4a18-861a-a26bb3955178",
   "metadata": {
    "tags": []
   },
   "outputs": [],
   "source": [
    "model = tf.keras.models.load_model('gs://qwiklabs-asl-00-05fccb34ed23/classifier_20231213_202210/SavedModel/SavedModel/')"
   ]
  },
  {
   "cell_type": "code",
   "execution_count": null,
   "id": "82c49682-a620-4d43-ba97-fe1a2ee63d3f",
   "metadata": {},
   "outputs": [],
   "source": []
  }
 ],
 "metadata": {
  "environment": {
   "kernel": "python3",
   "name": "tf2-gpu.2-12.m113",
   "type": "gcloud",
   "uri": "gcr.io/deeplearning-platform-release/tf2-gpu.2-12:m113"
  },
  "kernelspec": {
   "display_name": "Python 3",
   "language": "python",
   "name": "python3"
  },
  "language_info": {
   "codemirror_mode": {
    "name": "ipython",
    "version": 3
   },
   "file_extension": ".py",
   "mimetype": "text/x-python",
   "name": "python",
   "nbconvert_exporter": "python",
   "pygments_lexer": "ipython3",
   "version": "3.10.13"
  }
 },
 "nbformat": 4,
 "nbformat_minor": 5
}
